{
  "cells": [
    {
      "cell_type": "markdown",
      "metadata": {
        "id": "view-in-github",
        "colab_type": "text"
      },
      "source": [
        "<a href=\"https://colab.research.google.com/github/lexiwellen/Data-Science/blob/main/Wellen_Lab_3.ipynb\" target=\"_parent\"><img src=\"https://colab.research.google.com/assets/colab-badge.svg\" alt=\"Open In Colab\"/></a>"
      ]
    },
    {
      "cell_type": "code",
      "execution_count": 114,
      "metadata": {
        "id": "Hn5JPdoQ3Zr0"
      },
      "outputs": [],
      "source": [
        "import numpy as np\n",
        "import matplotlib.pyplot as plt"
      ]
    },
    {
      "cell_type": "code",
      "execution_count": 114,
      "metadata": {
        "id": "DyBNefp93Zuj"
      },
      "outputs": [],
      "source": []
    },
    {
      "cell_type": "markdown",
      "metadata": {
        "id": "LUiYpvrO-azR"
      },
      "source": [
        "# Loops"
      ]
    },
    {
      "cell_type": "code",
      "execution_count": 115,
      "metadata": {
        "colab": {
          "base_uri": "https://localhost:8080/"
        },
        "id": "mKJZKv5j3Zwy",
        "outputId": "ff82ca85-762b-48e1-c997-7603de525414"
      },
      "outputs": [
        {
          "output_type": "stream",
          "name": "stdout",
          "text": [
            "0\n",
            "1\n",
            "2\n",
            "3\n",
            "4\n",
            "5\n",
            "6\n",
            "7\n",
            "8\n",
            "9\n",
            "10\n",
            "11\n",
            "12\n",
            "13\n",
            "14\n",
            "15\n",
            "16\n",
            "17\n",
            "18\n",
            "19\n",
            "20\n",
            "21\n",
            "22\n",
            "23\n",
            "24\n",
            "25\n",
            "26\n",
            "27\n",
            "28\n",
            "29\n",
            "30\n",
            "31\n",
            "32\n",
            "33\n",
            "34\n",
            "35\n",
            "36\n",
            "37\n",
            "38\n",
            "39\n",
            "40\n",
            "41\n",
            "42\n",
            "43\n",
            "44\n",
            "45\n",
            "46\n",
            "47\n",
            "48\n",
            "49\n",
            "50\n",
            "51\n",
            "52\n",
            "53\n",
            "54\n",
            "55\n",
            "56\n",
            "57\n",
            "58\n",
            "59\n",
            "60\n",
            "61\n",
            "62\n",
            "63\n",
            "64\n",
            "65\n",
            "66\n",
            "67\n",
            "68\n",
            "69\n",
            "70\n",
            "71\n",
            "72\n",
            "73\n",
            "74\n",
            "75\n",
            "76\n",
            "77\n",
            "78\n",
            "79\n",
            "80\n",
            "81\n",
            "82\n",
            "83\n",
            "84\n",
            "85\n",
            "86\n",
            "87\n",
            "88\n",
            "89\n",
            "90\n",
            "91\n",
            "92\n",
            "93\n",
            "94\n",
            "95\n",
            "96\n",
            "97\n",
            "98\n",
            "99\n",
            "100\n",
            "101\n",
            "102\n",
            "103\n",
            "104\n",
            "105\n",
            "106\n",
            "107\n",
            "108\n",
            "109\n",
            "110\n",
            "111\n",
            "112\n",
            "113\n",
            "114\n",
            "115\n",
            "116\n",
            "117\n",
            "118\n",
            "119\n",
            "120\n",
            "121\n",
            "122\n",
            "123\n",
            "124\n",
            "125\n",
            "126\n",
            "127\n",
            "128\n",
            "129\n",
            "130\n",
            "131\n",
            "132\n",
            "133\n",
            "134\n",
            "135\n",
            "136\n",
            "137\n",
            "138\n",
            "139\n",
            "140\n",
            "141\n",
            "142\n",
            "143\n",
            "144\n",
            "145\n",
            "146\n",
            "147\n",
            "148\n",
            "149\n",
            "150\n",
            "151\n",
            "152\n",
            "153\n",
            "154\n",
            "155\n",
            "156\n",
            "157\n",
            "158\n",
            "159\n",
            "160\n",
            "161\n",
            "162\n",
            "163\n",
            "164\n",
            "165\n",
            "166\n",
            "167\n",
            "168\n",
            "169\n",
            "170\n",
            "171\n",
            "172\n",
            "173\n",
            "174\n",
            "175\n",
            "176\n",
            "177\n",
            "178\n",
            "179\n",
            "180\n",
            "181\n",
            "182\n",
            "183\n",
            "184\n",
            "185\n",
            "186\n",
            "187\n",
            "188\n",
            "189\n",
            "190\n",
            "191\n",
            "192\n",
            "193\n",
            "194\n",
            "195\n",
            "196\n",
            "197\n",
            "198\n",
            "199\n",
            "200\n",
            "201\n",
            "202\n",
            "203\n",
            "204\n",
            "205\n",
            "206\n",
            "207\n",
            "208\n",
            "209\n",
            "210\n",
            "211\n",
            "212\n",
            "213\n",
            "214\n",
            "215\n",
            "216\n",
            "217\n",
            "218\n",
            "219\n",
            "220\n",
            "221\n",
            "222\n",
            "223\n",
            "224\n",
            "225\n",
            "226\n",
            "227\n",
            "228\n",
            "229\n",
            "230\n",
            "231\n",
            "232\n",
            "233\n",
            "234\n",
            "235\n",
            "236\n",
            "237\n",
            "238\n",
            "239\n",
            "240\n",
            "241\n",
            "242\n",
            "243\n",
            "244\n",
            "245\n",
            "246\n",
            "247\n",
            "248\n",
            "249\n",
            "250\n",
            "251\n",
            "252\n",
            "253\n",
            "254\n",
            "255\n",
            "256\n",
            "257\n",
            "258\n",
            "259\n",
            "260\n",
            "261\n",
            "262\n",
            "263\n",
            "264\n",
            "265\n",
            "266\n",
            "267\n",
            "268\n",
            "269\n",
            "270\n",
            "271\n",
            "272\n",
            "273\n",
            "274\n",
            "275\n",
            "276\n",
            "277\n",
            "278\n",
            "279\n",
            "280\n",
            "281\n",
            "282\n",
            "283\n",
            "284\n",
            "285\n",
            "286\n",
            "287\n",
            "288\n",
            "289\n",
            "290\n",
            "291\n",
            "292\n",
            "293\n",
            "294\n",
            "295\n",
            "296\n",
            "297\n",
            "298\n",
            "299\n",
            "300\n",
            "301\n",
            "302\n",
            "303\n",
            "304\n",
            "305\n",
            "306\n",
            "307\n",
            "308\n",
            "309\n",
            "310\n",
            "311\n",
            "312\n",
            "313\n",
            "314\n",
            "315\n",
            "316\n",
            "317\n",
            "318\n",
            "319\n",
            "320\n",
            "321\n",
            "322\n",
            "323\n",
            "324\n",
            "325\n",
            "326\n",
            "327\n",
            "328\n",
            "329\n",
            "330\n",
            "331\n",
            "332\n",
            "333\n",
            "334\n",
            "335\n",
            "336\n",
            "337\n",
            "338\n",
            "339\n",
            "340\n",
            "341\n",
            "342\n",
            "343\n",
            "344\n",
            "345\n",
            "346\n",
            "347\n",
            "348\n",
            "349\n",
            "350\n",
            "351\n",
            "352\n",
            "353\n",
            "354\n",
            "355\n",
            "356\n",
            "357\n",
            "358\n",
            "359\n",
            "360\n",
            "361\n",
            "362\n",
            "363\n",
            "364\n",
            "365\n",
            "366\n",
            "367\n",
            "368\n",
            "369\n",
            "370\n",
            "371\n",
            "372\n",
            "373\n",
            "374\n",
            "375\n",
            "376\n",
            "377\n",
            "378\n",
            "379\n",
            "380\n",
            "381\n",
            "382\n",
            "383\n",
            "384\n",
            "385\n",
            "386\n",
            "387\n",
            "388\n",
            "389\n",
            "390\n",
            "391\n",
            "392\n",
            "393\n",
            "394\n",
            "395\n",
            "396\n",
            "397\n",
            "398\n",
            "399\n",
            "400\n",
            "401\n",
            "402\n",
            "403\n",
            "404\n",
            "405\n",
            "406\n",
            "407\n",
            "408\n",
            "409\n",
            "410\n",
            "411\n",
            "412\n",
            "413\n",
            "414\n",
            "415\n",
            "416\n",
            "417\n",
            "418\n",
            "419\n"
          ]
        }
      ],
      "source": [
        "for i in range(420):\n",
        "    print(i)"
      ]
    },
    {
      "cell_type": "code",
      "execution_count": 116,
      "metadata": {
        "colab": {
          "base_uri": "https://localhost:8080/"
        },
        "id": "kKlCq5oo3ZzM",
        "outputId": "80c0611d-eef9-482c-d2b3-e33de53f04b2"
      },
      "outputs": [
        {
          "output_type": "stream",
          "name": "stdout",
          "text": [
            "5\n",
            "6\n",
            "7\n"
          ]
        }
      ],
      "source": [
        "for i in range(5,8):\n",
        "    print(i)"
      ]
    },
    {
      "cell_type": "code",
      "execution_count": 117,
      "metadata": {
        "colab": {
          "base_uri": "https://localhost:8080/"
        },
        "id": "LblgWjv83Z1K",
        "outputId": "45cb730f-0ca5-470d-eb06-89995f9f2d64"
      },
      "outputs": [
        {
          "output_type": "stream",
          "name": "stdout",
          "text": [
            "Test Number:  0\n",
            "Test Number:  1\n",
            "Test Number:  2\n"
          ]
        }
      ],
      "source": [
        "for i in range(3):\n",
        "    print( \"Test Number: \" ,i )"
      ]
    },
    {
      "cell_type": "code",
      "execution_count": 118,
      "metadata": {
        "id": "Prg8ZqZM_aUy"
      },
      "outputs": [],
      "source": [
        "# this is set up to give you the squared value of any number"
      ]
    },
    {
      "cell_type": "code",
      "execution_count": 119,
      "metadata": {
        "id": "bY1_ro5O_aXR"
      },
      "outputs": [],
      "source": [
        "def square(x):\n",
        "    return x**2"
      ]
    },
    {
      "cell_type": "code",
      "execution_count": 120,
      "metadata": {
        "colab": {
          "base_uri": "https://localhost:8080/"
        },
        "id": "UmnEyDed_aaJ",
        "outputId": "ca7a28a0-0098-40b0-e9e8-cd9ee8ab2023"
      },
      "outputs": [
        {
          "output_type": "execute_result",
          "data": {
            "text/plain": [
              "25"
            ]
          },
          "metadata": {},
          "execution_count": 120
        }
      ],
      "source": [
        "square(5)"
      ]
    },
    {
      "cell_type": "code",
      "execution_count": 121,
      "metadata": {
        "colab": {
          "base_uri": "https://localhost:8080/"
        },
        "id": "HRyXQ9x6_acp",
        "outputId": "241d63a7-573d-4cd5-847c-e7c083399656"
      },
      "outputs": [
        {
          "output_type": "execute_result",
          "data": {
            "text/plain": [
              "176400"
            ]
          },
          "metadata": {},
          "execution_count": 121
        }
      ],
      "source": [
        "square(420)"
      ]
    },
    {
      "cell_type": "code",
      "execution_count": 122,
      "metadata": {
        "colab": {
          "base_uri": "https://localhost:8080/"
        },
        "id": "oYXQPN5d_afA",
        "outputId": "4fed1f73-7f6d-43c2-80f9-f54e7e75452b"
      },
      "outputs": [
        {
          "output_type": "execute_result",
          "data": {
            "text/plain": [
              "15241578750190521"
            ]
          },
          "metadata": {},
          "execution_count": 122
        }
      ],
      "source": [
        "square(123456789)"
      ]
    },
    {
      "cell_type": "code",
      "execution_count": 123,
      "metadata": {
        "colab": {
          "base_uri": "https://localhost:8080/"
        },
        "id": "34smkW3n_ag5",
        "outputId": "c18c09ab-99b3-4382-e7aa-918950de8203"
      },
      "outputs": [
        {
          "output_type": "execute_result",
          "data": {
            "text/plain": [
              "256"
            ]
          },
          "metadata": {},
          "execution_count": 123
        }
      ],
      "source": [
        "square(square(square(2)))"
      ]
    },
    {
      "cell_type": "code",
      "execution_count": 124,
      "metadata": {
        "id": "lh9SlLch_aih"
      },
      "outputs": [],
      "source": [
        "def add_two(x):\n",
        "    return x+2"
      ]
    },
    {
      "cell_type": "code",
      "execution_count": 125,
      "metadata": {
        "colab": {
          "base_uri": "https://localhost:8080/"
        },
        "id": "gLIBew7BAYHE",
        "outputId": "73c70668-017e-4e83-ef19-eee9fdad344a"
      },
      "outputs": [
        {
          "output_type": "execute_result",
          "data": {
            "text/plain": [
              "7"
            ]
          },
          "metadata": {},
          "execution_count": 125
        }
      ],
      "source": [
        "add_two(5)"
      ]
    },
    {
      "cell_type": "code",
      "execution_count": 126,
      "metadata": {
        "colab": {
          "base_uri": "https://localhost:8080/"
        },
        "id": "qrSwexgOAYLc",
        "outputId": "d8eaf3bc-9a43-4570-88fb-e8478fa9f23a"
      },
      "outputs": [
        {
          "output_type": "execute_result",
          "data": {
            "text/plain": [
              "49"
            ]
          },
          "metadata": {},
          "execution_count": 126
        }
      ],
      "source": [
        "square(add_two(5))"
      ]
    },
    {
      "cell_type": "code",
      "execution_count": 126,
      "metadata": {
        "id": "0Kk1zVwEAYNm"
      },
      "outputs": [],
      "source": []
    },
    {
      "cell_type": "code",
      "execution_count": 127,
      "metadata": {
        "id": "0fdZfUzJAYP8"
      },
      "outputs": [],
      "source": [
        "# = is assignment operator, make up a meory box and store whatever is after "
      ]
    },
    {
      "cell_type": "code",
      "execution_count": 128,
      "metadata": {
        "id": "1u1Z2_egAYSL"
      },
      "outputs": [],
      "source": [
        "# == is a logical eqaution so youre recieving one of two answers"
      ]
    },
    {
      "cell_type": "code",
      "execution_count": 129,
      "metadata": {
        "colab": {
          "base_uri": "https://localhost:8080/"
        },
        "id": "aMrc_c7dAYUE",
        "outputId": "aaa4d2cd-278e-4be8-beae-3fb94c5c668a"
      },
      "outputs": [
        {
          "output_type": "stream",
          "name": "stdout",
          "text": [
            "You chose apples.\n",
            "Thank you, shop again soon!\n"
          ]
        }
      ],
      "source": [
        "if choice ==\"apple\":\n",
        "\n",
        "    print(\"You chose apples.\")\n",
        "    print(\"Thank you, shop again soon!\")\n",
        "elif choice == \"orange\":\n",
        "\n",
        "    print(\"You chose oranges.\")  \n",
        "\n",
        "else:\n",
        "    print(\"You did not choose apples or oranges.\")\n",
        "\n",
        "       "
      ]
    },
    {
      "cell_type": "markdown",
      "metadata": {
        "id": "3wktG-CPB9O7"
      },
      "source": []
    },
    {
      "cell_type": "code",
      "execution_count": 130,
      "metadata": {
        "colab": {
          "base_uri": "https://localhost:8080/"
        },
        "id": "iUouoYR6Bhmc",
        "outputId": "bdc423d2-8c6d-4f95-86b3-128f2ff9e052"
      },
      "outputs": [
        {
          "name": "stdout",
          "output_type": "stream",
          "text": [
            "Please enter your choice (i.e. apple): apple\n"
          ]
        }
      ],
      "source": [
        "choice = input(\"Please enter your choice (i.e. apple): \")"
      ]
    },
    {
      "cell_type": "code",
      "execution_count": 131,
      "metadata": {
        "colab": {
          "base_uri": "https://localhost:8080/",
          "height": 35
        },
        "id": "13T5fWF9Bho6",
        "outputId": "84ce47e8-88b0-486b-bde7-4640b6184fc1"
      },
      "outputs": [
        {
          "output_type": "execute_result",
          "data": {
            "text/plain": [
              "'apple'"
            ],
            "application/vnd.google.colaboratory.intrinsic+json": {
              "type": "string"
            }
          },
          "metadata": {},
          "execution_count": 131
        }
      ],
      "source": [
        "choice"
      ]
    },
    {
      "cell_type": "code",
      "execution_count": 132,
      "metadata": {
        "colab": {
          "base_uri": "https://localhost:8080/"
        },
        "id": "Lwil-N7yBhrM",
        "outputId": "7958d671-02fd-4434-df4e-779ba30b45a1"
      },
      "outputs": [
        {
          "output_type": "execute_result",
          "data": {
            "text/plain": [
              "array([20, 27, 47, 16,  0, 19,  4, 51, 12, 49, 18, 34, 28, 39, 21, 13, 50,\n",
              "        2, 48,  7, 42, 41, 26, 36, 22, 15,  5, 46, 31, 45, 23,  6, 30,  8,\n",
              "       24, 25, 11, 35,  9, 40, 32, 44, 38, 17, 33,  1,  3, 37, 43, 14, 29,\n",
              "       10])"
            ]
          },
          "metadata": {},
          "execution_count": 132
        }
      ],
      "source": [
        "np.random.permutation(52)"
      ]
    },
    {
      "cell_type": "code",
      "execution_count": 133,
      "metadata": {
        "id": "CDTbMFJgDaTU"
      },
      "outputs": [],
      "source": [
        "cards = np.random.permutation(52)"
      ]
    },
    {
      "cell_type": "code",
      "execution_count": 134,
      "metadata": {
        "colab": {
          "base_uri": "https://localhost:8080/"
        },
        "id": "Ns34BHmKDabE",
        "outputId": "6c21f666-8fbe-43dd-ca4c-8e2af5d6ebdc"
      },
      "outputs": [
        {
          "output_type": "execute_result",
          "data": {
            "text/plain": [
              "array([43, 44, 12, 37, 23, 11, 31, 18,  7, 27, 51,  0, 34,  1, 29, 42, 19,\n",
              "        6, 24, 14, 28, 32, 20, 40, 22, 26, 33, 47, 35, 38, 49,  8,  3, 48,\n",
              "       50, 13, 41,  9,  2, 45, 36, 46, 21, 39, 15, 30,  5, 25, 10, 17, 16,\n",
              "        4])"
            ]
          },
          "metadata": {},
          "execution_count": 134
        }
      ],
      "source": [
        "cards"
      ]
    },
    {
      "cell_type": "code",
      "execution_count": 135,
      "metadata": {
        "colab": {
          "base_uri": "https://localhost:8080/"
        },
        "id": "ejAij-EtDadU",
        "outputId": "33c3f07c-deb5-4538-a2ae-9c8e23c6248e"
      },
      "outputs": [
        {
          "output_type": "execute_result",
          "data": {
            "text/plain": [
              "43"
            ]
          },
          "metadata": {},
          "execution_count": 135
        }
      ],
      "source": [
        "cards[0]"
      ]
    },
    {
      "cell_type": "code",
      "execution_count": 136,
      "metadata": {
        "colab": {
          "base_uri": "https://localhost:8080/"
        },
        "id": "WNHhy1uRDaf9",
        "outputId": "8c023537-d051-4477-8d8b-e959b95aac4f"
      },
      "outputs": [
        {
          "output_type": "execute_result",
          "data": {
            "text/plain": [
              "3"
            ]
          },
          "metadata": {},
          "execution_count": 136
        }
      ],
      "source": [
        "cards[32]"
      ]
    },
    {
      "cell_type": "markdown",
      "metadata": {
        "id": "EnH90Z56Dx4-"
      },
      "source": [
        "<img src='http://www.milefoot.com/math/discrete/counting/images/cards.png'>"
      ]
    },
    {
      "cell_type": "code",
      "execution_count": 137,
      "metadata": {
        "colab": {
          "base_uri": "https://localhost:8080/"
        },
        "id": "tTwBfpv_Dah9",
        "outputId": "687e7026-4c8f-42a5-fdef-a920efec82ea"
      },
      "outputs": [
        {
          "output_type": "execute_result",
          "data": {
            "text/plain": [
              "array([[ 0,  1,  2,  3,  4,  5,  6,  7,  8,  9, 10, 11, 12],\n",
              "       [13, 14, 15, 16, 17, 18, 19, 20, 21, 22, 23, 24, 25],\n",
              "       [26, 27, 28, 29, 30, 31, 32, 33, 34, 35, 36, 37, 38],\n",
              "       [39, 40, 41, 42, 43, 44, 45, 46, 47, 48, 49, 50, 51]])"
            ]
          },
          "metadata": {},
          "execution_count": 137
        }
      ],
      "source": [
        "np.arange(52).reshape(4,13)"
      ]
    },
    {
      "cell_type": "code",
      "execution_count": 138,
      "metadata": {
        "colab": {
          "base_uri": "https://localhost:8080/"
        },
        "id": "9E1dajbwFisF",
        "outputId": "ea4d9bd0-37b6-45c8-d792-dc8c5b69376b"
      },
      "outputs": [
        {
          "output_type": "execute_result",
          "data": {
            "text/plain": [
              "array([[ 0,  1,  2,  3,  4,  5,  6,  7,  8,  9, 10, 11, 12],\n",
              "       [ 0,  1,  2,  3,  4,  5,  6,  7,  8,  9, 10, 11, 12],\n",
              "       [ 0,  1,  2,  3,  4,  5,  6,  7,  8,  9, 10, 11, 12],\n",
              "       [ 0,  1,  2,  3,  4,  5,  6,  7,  8,  9, 10, 11, 12]])"
            ]
          },
          "metadata": {},
          "execution_count": 138
        }
      ],
      "source": [
        "np.arange(52).reshape(4,13)%13"
      ]
    },
    {
      "cell_type": "code",
      "execution_count": 139,
      "metadata": {
        "id": "ZDpS-rgYFNfu"
      },
      "outputs": [],
      "source": [
        "# this gives us the remainder"
      ]
    },
    {
      "cell_type": "code",
      "execution_count": 140,
      "metadata": {
        "colab": {
          "base_uri": "https://localhost:8080/"
        },
        "id": "6gw29bogFNh9",
        "outputId": "8052475d-7f22-4349-bead-3d074e8a868e"
      },
      "outputs": [
        {
          "output_type": "execute_result",
          "data": {
            "text/plain": [
              "array([[0, 0, 0, 0, 0, 0, 0, 0, 0, 0, 0, 0, 0],\n",
              "       [1, 1, 1, 1, 1, 1, 1, 1, 1, 1, 1, 1, 1],\n",
              "       [2, 2, 2, 2, 2, 2, 2, 2, 2, 2, 2, 2, 2],\n",
              "       [3, 3, 3, 3, 3, 3, 3, 3, 3, 3, 3, 3, 3]])"
            ]
          },
          "metadata": {},
          "execution_count": 140
        }
      ],
      "source": [
        "np.arange(52).reshape(4,13)//13"
      ]
    },
    {
      "cell_type": "code",
      "execution_count": 141,
      "metadata": {
        "id": "IdXepWdoFNkd"
      },
      "outputs": [],
      "source": [
        "suits = ['Clubs','Spades','Hearts','Diamonds']\n",
        "names = ['Ace','Two','Three','Four','Five','Six','Seven','Eight','Nine','Ten','Jack','Queen','King']"
      ]
    },
    {
      "cell_type": "code",
      "execution_count": 142,
      "metadata": {
        "id": "ORJ60SjEFNm2"
      },
      "outputs": [],
      "source": [
        "def card_name(card_number):\n",
        "\n",
        "  suit = card_number//13\n",
        "  name = card_number%13\n",
        "\n",
        "  return names[name] + \" of \" +suits[suit]"
      ]
    },
    {
      "cell_type": "code",
      "execution_count": 143,
      "metadata": {
        "colab": {
          "base_uri": "https://localhost:8080/",
          "height": 35
        },
        "id": "lLFCuN5BFNpP",
        "outputId": "3ba48111-ea71-4a37-db34-4d2bf6a9d1cc"
      },
      "outputs": [
        {
          "output_type": "execute_result",
          "data": {
            "text/plain": [
              "'Seven of Clubs'"
            ],
            "application/vnd.google.colaboratory.intrinsic+json": {
              "type": "string"
            }
          },
          "metadata": {},
          "execution_count": 143
        }
      ],
      "source": [
        "card_name(6)"
      ]
    },
    {
      "cell_type": "code",
      "execution_count": 144,
      "metadata": {
        "colab": {
          "base_uri": "https://localhost:8080/",
          "height": 35
        },
        "id": "sAOcJbb3G9_R",
        "outputId": "10ffe0b1-3d04-43ae-c7f0-6d502167e80a"
      },
      "outputs": [
        {
          "output_type": "execute_result",
          "data": {
            "text/plain": [
              "'King of Diamonds'"
            ],
            "application/vnd.google.colaboratory.intrinsic+json": {
              "type": "string"
            }
          },
          "metadata": {},
          "execution_count": 144
        }
      ],
      "source": [
        "card_name(51)"
      ]
    },
    {
      "cell_type": "code",
      "execution_count": 145,
      "metadata": {
        "id": "laLNohf8G-Bo"
      },
      "outputs": [],
      "source": [
        "top_of_deck           = card_name(cards[0])\n",
        "second_card_in_deck   = card_name(cards[1]) \n",
        "last_card_in_deck     = card_name(cards[-1])"
      ]
    },
    {
      "cell_type": "code",
      "execution_count": 146,
      "metadata": {
        "colab": {
          "base_uri": "https://localhost:8080/"
        },
        "id": "3AxZkxRaG-EA",
        "outputId": "8c90d46e-689f-474f-f3ef-e230ffd6c784"
      },
      "outputs": [
        {
          "output_type": "execute_result",
          "data": {
            "text/plain": [
              "('Five of Diamonds', 'Six of Diamonds', 'Five of Clubs')"
            ]
          },
          "metadata": {},
          "execution_count": 146
        }
      ],
      "source": [
        "top_of_deck,second_card_in_deck,last_card_in_deck"
      ]
    },
    {
      "cell_type": "code",
      "execution_count": 147,
      "metadata": {
        "colab": {
          "base_uri": "https://localhost:8080/"
        },
        "id": "Y-mFLdKrG-GS",
        "outputId": "e2d94192-47bd-4621-eb51-fa4424531105"
      },
      "outputs": [
        {
          "output_type": "stream",
          "name": "stdout",
          "text": [
            "Five of Diamonds\n",
            "Six of Diamonds\n",
            "King of Clubs\n",
            "Queen of Hearts\n",
            "Jack of Spades\n"
          ]
        }
      ],
      "source": [
        "for i in range(5):\n",
        "     print(card_name(cards[i]))"
      ]
    },
    {
      "cell_type": "code",
      "execution_count": 148,
      "metadata": {
        "id": "9i38Q8mdG-Ib"
      },
      "outputs": [],
      "source": [
        "# many idfferent options to use for a card trick"
      ]
    },
    {
      "cell_type": "code",
      "execution_count": 149,
      "metadata": {
        "id": "HK34ab6tG-Mp"
      },
      "outputs": [],
      "source": [
        "card_url_head = \"https://www.improvemagic.com/wp-content/uploads/2020/11\"\n",
        "card_url_tail = \".png\""
      ]
    },
    {
      "cell_type": "code",
      "execution_count": 150,
      "metadata": {
        "id": "RxIcbI24G-PP"
      },
      "outputs": [],
      "source": [
        "suit = ['k','p','s','l']\n",
        "card = ['a','2','3','4','5','6','7','8','9','10','j','q','k']"
      ]
    },
    {
      "cell_type": "code",
      "source": [
        "from IPython.core.display import display, HTML"
      ],
      "metadata": {
        "id": "XlnHoTvNKciM"
      },
      "execution_count": 151,
      "outputs": []
    },
    {
      "cell_type": "code",
      "source": [
        "def show_img(img):\n",
        "    display(HTML('<img src=' + img + '>'))"
      ],
      "metadata": {
        "id": "j8Vnv5IxKcka"
      },
      "execution_count": 152,
      "outputs": []
    },
    {
      "cell_type": "code",
      "source": [
        "img = card_url_head + suit[i] + card[j] + card_url_tail"
      ],
      "metadata": {
        "colab": {
          "base_uri": "https://localhost:8080/",
          "height": 165
        },
        "id": "OP-i-_cMKcmq",
        "outputId": "aa2fabfb-bd1c-40df-ad88-01fb61982553"
      },
      "execution_count": 156,
      "outputs": [
        {
          "output_type": "error",
          "ename": "IndexError",
          "evalue": "ignored",
          "traceback": [
            "\u001b[0;31m---------------------------------------------------------------------------\u001b[0m",
            "\u001b[0;31mIndexError\u001b[0m                                Traceback (most recent call last)",
            "\u001b[0;32m<ipython-input-156-1715437c0c58>\u001b[0m in \u001b[0;36m<module>\u001b[0;34m\u001b[0m\n\u001b[0;32m----> 1\u001b[0;31m \u001b[0mimg\u001b[0m  \u001b[0;34m=\u001b[0m  \u001b[0mcard_url_head\u001b[0m  \u001b[0;34m+\u001b[0m  \u001b[0msuit\u001b[0m\u001b[0;34m[\u001b[0m\u001b[0mi\u001b[0m\u001b[0;34m]\u001b[0m \u001b[0;34m+\u001b[0m \u001b[0mcard\u001b[0m\u001b[0;34m[\u001b[0m\u001b[0mj\u001b[0m\u001b[0;34m]\u001b[0m  \u001b[0;34m+\u001b[0m  \u001b[0mcard_url_tail\u001b[0m\u001b[0;34m\u001b[0m\u001b[0;34m\u001b[0m\u001b[0m\n\u001b[0m",
            "\u001b[0;31mIndexError\u001b[0m: list index out of range"
          ]
        }
      ]
    },
    {
      "cell_type": "code",
      "source": [],
      "metadata": {
        "id": "EpQKFYQtKco6"
      },
      "execution_count": null,
      "outputs": []
    },
    {
      "cell_type": "code",
      "source": [],
      "metadata": {
        "id": "l6kGIvLiKcrK"
      },
      "execution_count": null,
      "outputs": []
    },
    {
      "cell_type": "code",
      "source": [],
      "metadata": {
        "id": "KFyVUqqnKctT"
      },
      "execution_count": null,
      "outputs": []
    },
    {
      "cell_type": "code",
      "source": [],
      "metadata": {
        "id": "_pdYdMYGKcvC"
      },
      "execution_count": null,
      "outputs": []
    }
  ],
  "metadata": {
    "colab": {
      "provenance": [],
      "authorship_tag": "ABX9TyMmL1Vib1sRq3jqGrI/zntV",
      "include_colab_link": true
    },
    "kernelspec": {
      "display_name": "Python 3",
      "name": "python3"
    },
    "language_info": {
      "name": "python"
    }
  },
  "nbformat": 4,
  "nbformat_minor": 0
}