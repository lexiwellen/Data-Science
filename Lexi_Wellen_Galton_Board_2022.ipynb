{
  "nbformat": 4,
  "nbformat_minor": 0,
  "metadata": {
    "colab": {
      "provenance": [],
      "collapsed_sections": [],
      "include_colab_link": true
    },
    "kernelspec": {
      "name": "python3",
      "display_name": "Python 3"
    }
  },
  "cells": [
    {
      "cell_type": "markdown",
      "metadata": {
        "id": "view-in-github",
        "colab_type": "text"
      },
      "source": [
        "<a href=\"https://colab.research.google.com/github/lexiwellen/Data-Science/blob/main/Lexi_Wellen_Galton_Board_2022.ipynb\" target=\"_parent\"><img src=\"https://colab.research.google.com/assets/colab-badge.svg\" alt=\"Open In Colab\"/></a>"
      ]
    },
    {
      "cell_type": "markdown",
      "source": [
        "#Galton Board Lab"
      ],
      "metadata": {
        "id": "F7Kkw511nL1F"
      }
    },
    {
      "metadata": {
        "id": "JiZpI9wDbh75"
      },
      "cell_type": "markdown",
      "source": [
        "![alt text](https://www.physlab.org/wp-content/uploads/2016/03/Galton_Board_5.jpeg)"
      ]
    },
    {
      "cell_type": "markdown",
      "source": [
        "# 1) Watch this Video\n",
        "https://www.youtube.com/watch?v=SZoDNfVFS7I"
      ],
      "metadata": {
        "id": "2eOkTpKYllrA"
      }
    },
    {
      "cell_type": "markdown",
      "source": [
        "# 2) Run this Demo\n",
        "## Change all the settings and watch what happens\n",
        "https://www.mathsisfun.com/data/quincunx.html"
      ],
      "metadata": {
        "id": "MAckRKG5mjp0"
      }
    },
    {
      "cell_type": "markdown",
      "source": [
        "# 3) Comment ALL of the code below. Explain each step in as much detail as possible. Add code cells to show intermediate steps. "
      ],
      "metadata": {
        "id": "1K6v21JflpGY"
      }
    },
    {
      "cell_type": "code",
      "source": [
        "import numpy as np\n",
        "import matplotlib.pyplot as plt"
      ],
      "metadata": {
        "id": "CpvjnOHwfu4g"
      },
      "execution_count": 1,
      "outputs": []
    },
    {
      "cell_type": "code",
      "source": [
        "def coin():\n",
        "    return 2*(np.random.random() > 0.5) - 1"
      ],
      "metadata": {
        "id": "3DKoK_RLfvmu"
      },
      "execution_count": 2,
      "outputs": []
    },
    {
      "cell_type": "code",
      "source": [
        "#defining coin as any number within said range"
      ],
      "metadata": {
        "id": "QuwV4Rl67VAY"
      },
      "execution_count": null,
      "outputs": []
    },
    {
      "cell_type": "code",
      "source": [
        "coin()"
      ],
      "metadata": {
        "id": "upVKpqKamKIO",
        "colab": {
          "base_uri": "https://localhost:8080/"
        },
        "outputId": "0375bd09-08a9-4d95-e925-7e3276c117db"
      },
      "execution_count": 3,
      "outputs": [
        {
          "output_type": "execute_result",
          "data": {
            "text/plain": [
              "1"
            ]
          },
          "metadata": {},
          "execution_count": 3
        }
      ]
    },
    {
      "cell_type": "code",
      "source": [
        "x = 0\n",
        "x + coin()"
      ],
      "metadata": {
        "colab": {
          "base_uri": "https://localhost:8080/"
        },
        "id": "_Tpo3k_Rfvkm",
        "outputId": "aed62353-e8d0-42da-8082-35e7001b140d"
      },
      "execution_count": 4,
      "outputs": [
        {
          "output_type": "execute_result",
          "data": {
            "text/plain": [
              "1"
            ]
          },
          "metadata": {},
          "execution_count": 4
        }
      ]
    },
    {
      "cell_type": "code",
      "source": [
        "# by saying coin is 0 this time, the one will still come up when you rin the code"
      ],
      "metadata": {
        "id": "pTisHV987iFt"
      },
      "execution_count": null,
      "outputs": []
    },
    {
      "cell_type": "code",
      "source": [
        "x = 0\n",
        "\n",
        "for i in range(3):\n",
        "    x = x + coin()"
      ],
      "metadata": {
        "id": "bQ3khwo8nSC5"
      },
      "execution_count": 5,
      "outputs": []
    },
    {
      "cell_type": "code",
      "source": [
        "# this means that theyre adding x into the equation again but giving it the value of 0 when i is in the range of 3"
      ],
      "metadata": {
        "id": "jsgRbA7s7sP4"
      },
      "execution_count": null,
      "outputs": []
    },
    {
      "cell_type": "code",
      "source": [
        "x"
      ],
      "metadata": {
        "id": "d7ABUR99nT6X",
        "colab": {
          "base_uri": "https://localhost:8080/"
        },
        "outputId": "4def41d2-7f78-491c-870a-40cf0ad28c34"
      },
      "execution_count": 6,
      "outputs": [
        {
          "output_type": "execute_result",
          "data": {
            "text/plain": [
              "1"
            ]
          },
          "metadata": {},
          "execution_count": 6
        }
      ]
    },
    {
      "cell_type": "code",
      "source": [
        "x = 0\n",
        "\n",
        "for i in range(100):\n",
        "    x = x + coin()"
      ],
      "metadata": {
        "id": "NFy-Myfefvq5"
      },
      "execution_count": 7,
      "outputs": []
    },
    {
      "cell_type": "code",
      "source": [
        "# by using larger ranges, we can can get different numbers and can begin to make the numbers more easily graphable"
      ],
      "metadata": {
        "id": "Hl1dKu-c79nR"
      },
      "execution_count": null,
      "outputs": []
    },
    {
      "cell_type": "code",
      "source": [
        "x"
      ],
      "metadata": {
        "colab": {
          "base_uri": "https://localhost:8080/"
        },
        "id": "sdOlgTxFfvs3",
        "outputId": "ec7e4350-23c0-4c8c-9b65-5071956c0c34"
      },
      "execution_count": 8,
      "outputs": [
        {
          "output_type": "execute_result",
          "data": {
            "text/plain": [
              "-8"
            ]
          },
          "metadata": {},
          "execution_count": 8
        }
      ]
    },
    {
      "cell_type": "code",
      "source": [
        "# where does the m and n come from?"
      ],
      "metadata": {
        "id": "QuEJ-05e9VEF"
      },
      "execution_count": null,
      "outputs": []
    },
    {
      "cell_type": "code",
      "source": [
        "M = 10000\n",
        "N = 100\n",
        "\n",
        "X = np.zeros(M,)\n",
        "\n",
        "for j in range(M):\n",
        "\n",
        "    x = 0\n",
        "\n",
        "    for i in range(N):\n",
        "        x = x + coin()\n",
        "\n",
        "    X[j] = x"
      ],
      "metadata": {
        "id": "uLXLzA03gabE"
      },
      "execution_count": 9,
      "outputs": []
    },
    {
      "cell_type": "code",
      "source": [
        "plt.hist(X,100);"
      ],
      "metadata": {
        "colab": {
          "base_uri": "https://localhost:8080/",
          "height": 265
        },
        "id": "twqazgNcgOm1",
        "outputId": "b3190a96-58e8-4dbf-86af-62e385dec04b"
      },
      "execution_count": 10,
      "outputs": [
        {
          "output_type": "display_data",
          "data": {
            "text/plain": [
              "<Figure size 432x288 with 1 Axes>"
            ],
            "image/png": "[encoded data removed]"
          },
          "metadata": {
            "needs_background": "light"
          }
        }
      ]
    },
    {
      "cell_type": "code",
      "source": [
        "# this shows that galton's theory on the bell curve can be replicated by a computer which is the basis of this class"
      ],
      "metadata": {
        "id": "P12-qpzj8M5p"
      },
      "execution_count": null,
      "outputs": []
    },
    {
      "cell_type": "code",
      "source": [],
      "metadata": {
        "id": "gulMHCqUgOtK"
      },
      "execution_count": 10,
      "outputs": []
    },
    {
      "cell_type": "code",
      "source": [],
      "metadata": {
        "id": "H1S8EfiBgOvZ"
      },
      "execution_count": 10,
      "outputs": []
    },
    {
      "cell_type": "code",
      "source": [],
      "metadata": {
        "id": "-P5R39RagOyC"
      },
      "execution_count": 10,
      "outputs": []
    },
    {
      "cell_type": "code",
      "source": [],
      "metadata": {
        "id": "5YA1AWg4tdUL"
      },
      "execution_count": 10,
      "outputs": []
    },
    {
      "cell_type": "code",
      "source": [],
      "metadata": {
        "id": "xv6sVeRdtdbm"
      },
      "execution_count": 10,
      "outputs": []
    },
    {
      "cell_type": "code",
      "source": [],
      "metadata": {
        "id": "GCuchUhdtdh6"
      },
      "execution_count": 10,
      "outputs": []
    },
    {
      "cell_type": "markdown",
      "source": [
        "# Bonus: Explain Pascal's Triangle"
      ],
      "metadata": {
        "id": "SJ_lgmvntUhi"
      }
    },
    {
      "cell_type": "code",
      "source": [
        "#pascals triangle is another phenomenon studied in stats, it is an array of numbers with ones on the top and two sides and theres a new number in between eaxh number and below each number collection, there is the sum of the numbers"
      ],
      "metadata": {
        "id": "Vv6CxyVR8lCn"
      },
      "execution_count": null,
      "outputs": []
    },
    {
      "cell_type": "code",
      "source": [
        "P = np.zeros((12,18))\n",
        "\n",
        "P[0,5]=1\n",
        "\n",
        "for i in range(1,P.shape[0]):\n",
        "\n",
        "    for j in range(1,P.shape[1]-1):\n",
        "\n",
        "        P[i,j] = P[i-1,j-1]+P[i-1,j]\n",
        "\n",
        "print(P[:,5:])"
      ],
      "metadata": {
        "id": "ksVd5iqgfvu-",
        "colab": {
          "base_uri": "https://localhost:8080/"
        },
        "outputId": "50ddc9c7-9690-4503-b869-26fc4dc53cfe"
      },
      "execution_count": 11,
      "outputs": [
        {
          "output_type": "stream",
          "name": "stdout",
          "text": [
            "[[  1.   0.   0.   0.   0.   0.   0.   0.   0.   0.   0.   0.   0.]\n",
            " [  1.   1.   0.   0.   0.   0.   0.   0.   0.   0.   0.   0.   0.]\n",
            " [  1.   2.   1.   0.   0.   0.   0.   0.   0.   0.   0.   0.   0.]\n",
            " [  1.   3.   3.   1.   0.   0.   0.   0.   0.   0.   0.   0.   0.]\n",
            " [  1.   4.   6.   4.   1.   0.   0.   0.   0.   0.   0.   0.   0.]\n",
            " [  1.   5.  10.  10.   5.   1.   0.   0.   0.   0.   0.   0.   0.]\n",
            " [  1.   6.  15.  20.  15.   6.   1.   0.   0.   0.   0.   0.   0.]\n",
            " [  1.   7.  21.  35.  35.  21.   7.   1.   0.   0.   0.   0.   0.]\n",
            " [  1.   8.  28.  56.  70.  56.  28.   8.   1.   0.   0.   0.   0.]\n",
            " [  1.   9.  36.  84. 126. 126.  84.  36.   9.   1.   0.   0.   0.]\n",
            " [  1.  10.  45. 120. 210. 252. 210. 120.  45.  10.   1.   0.   0.]\n",
            " [  1.  11.  55. 165. 330. 462. 462. 330. 165.  55.  11.   1.   0.]]\n"
          ]
        }
      ]
    },
    {
      "cell_type": "code",
      "source": [
        "# this code is an example of how pascals triangle can be used and shows how numbers are interrelated"
      ],
      "metadata": {
        "id": "hpnohjA89DRI"
      },
      "execution_count": null,
      "outputs": []
    },
    {
      "cell_type": "code",
      "source": [],
      "metadata": {
        "id": "lvFXzt6PteNw"
      },
      "execution_count": 11,
      "outputs": []
    }
  ]
}