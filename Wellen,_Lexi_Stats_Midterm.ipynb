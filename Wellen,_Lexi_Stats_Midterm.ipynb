{
  "nbformat": 4,
  "nbformat_minor": 0,
  "metadata": {
    "colab": {
      "provenance": [],
      "collapsed_sections": [],
      "include_colab_link": true
    },
    "kernelspec": {
      "name": "python3",
      "display_name": "Python 3"
    },
    "language_info": {
      "name": "python"
    }
  },
  "cells": [
    {
      "cell_type": "markdown",
      "metadata": {
        "id": "view-in-github",
        "colab_type": "text"
      },
      "source": [
        "<a href=\"https://colab.research.google.com/github/lexiwellen/Data-Science/blob/main/Wellen%2C_Lexi_Stats_Midterm.ipynb\" target=\"_parent\"><img src=\"https://colab.research.google.com/assets/colab-badge.svg\" alt=\"Open In Colab\"/></a>"
      ]
    },
    {
      "cell_type": "markdown",
      "source": [
        "# STA 2023 Midterm Project\n",
        "\n",
        "Directions:\n",
        "\n",
        "*   Use any and all resources available to you\n",
        "*   Comment and explain the code\n",
        "*   Answer the questions to the best of your abilities\n",
        "*   There are no points for pain: ask for help\n",
        "\n",
        "Save this notebook to your GitHub and submit the link."
      ],
      "metadata": {
        "id": "WyqM99KnfwFM"
      }
    },
    {
      "cell_type": "code",
      "source": [
        "import numpy as np\n",
        "import matplotlib.pyplot as plt"
      ],
      "metadata": {
        "id": "ZE7xzRUigBYy"
      },
      "execution_count": null,
      "outputs": []
    },
    {
      "cell_type": "code",
      "source": [
        "# used to tell computer what kind of language is being used in the code"
      ],
      "metadata": {
        "id": "pQIlkGrs6Wuw"
      },
      "execution_count": null,
      "outputs": []
    },
    {
      "cell_type": "markdown",
      "source": [
        "## Part 1: Getting your data\n",
        "\n",
        "Create a google form to input your data.\n",
        "Follow the same method as [Lab 5](https://colab.research.google.com/drive/1zYvyhrz2wVnJXlZqj_PpxOxplfS3LN9Y?usp=sharing)."
      ],
      "metadata": {
        "id": "tkn5UxLMg4GS"
      }
    },
    {
      "cell_type": "code",
      "source": [
        "import pandas as pd\n",
        "def get_database(url): # This function loads the google spreadsheet\n",
        "    url_head = \"https://docs.google.com/spreadsheets/d/\"\n",
        "    url_foot = \"/gviz/tq?tqx=out:csv&sheet=\"\n",
        "    url_body = url.split('/')[5]\n",
        "    sheet_name = \"1\"\n",
        "    url_csv = url_head + url_body + url_foot + sheet_name\n",
        "    df = pd.read_csv(url_csv, sep=',', skiprows=0)\n",
        "    return df"
      ],
      "metadata": {
        "id": "B0XQVmQIgdrp"
      },
      "execution_count": null,
      "outputs": []
    },
    {
      "cell_type": "code",
      "source": [
        "# used to tell the comuter what language youre using as well as how to retrive data from the spreadsheet"
      ],
      "metadata": {
        "id": "WF1nU-vSiqn_"
      },
      "execution_count": null,
      "outputs": []
    },
    {
      "cell_type": "markdown",
      "source": [
        "Put your form url here:"
      ],
      "metadata": {
        "id": "e3G1Q_8rjlLI"
      }
    },
    {
      "cell_type": "code",
      "source": [],
      "metadata": {
        "id": "j7k14h--iqD3"
      },
      "execution_count": null,
      "outputs": []
    },
    {
      "cell_type": "code",
      "source": [
        "#this is where you upload the spreadsheet url from the google form"
      ],
      "metadata": {
        "id": "E9NpGffskwHM"
      },
      "execution_count": null,
      "outputs": []
    },
    {
      "cell_type": "code",
      "source": [
        "url = 'https://docs.google.com/spreadsheets/d/1P6_AW3BKMdp3eGLnHiwEntEpIQcNoceib21JL955rVY/edit#gid=2143281340'"
      ],
      "metadata": {
        "id": "PfAztwghjql2"
      },
      "execution_count": 16,
      "outputs": []
    },
    {
      "cell_type": "code",
      "source": [
        "# this is how you ask the computer to retreive the data"
      ],
      "metadata": {
        "id": "3xriG2wbk1Ls"
      },
      "execution_count": null,
      "outputs": []
    },
    {
      "cell_type": "code",
      "source": [
        "data = get_database(url)"
      ],
      "metadata": {
        "id": "_SA4UhnqjyhY",
        "colab": {
          "base_uri": "https://localhost:8080/",
          "height": 228
        },
        "outputId": "7d9a8a05-d493-47ad-9de2-466bff137c1b"
      },
      "execution_count": 17,
      "outputs": [
        {
          "output_type": "error",
          "ename": "ParserError",
          "evalue": "ignored",
          "traceback": [
            "\u001b[0;31m---------------------------------------------------------------------------\u001b[0m",
            "\u001b[0;31mParserError\u001b[0m                               Traceback (most recent call last)",
            "\u001b[0;32m<ipython-input-17-4d953aeb82ab>\u001b[0m in \u001b[0;36m<module>\u001b[0;34m\u001b[0m\n\u001b[0;32m----> 1\u001b[0;31m \u001b[0mdata\u001b[0m \u001b[0;34m=\u001b[0m \u001b[0mget_database\u001b[0m\u001b[0;34m(\u001b[0m\u001b[0murl\u001b[0m\u001b[0;34m)\u001b[0m\u001b[0;34m\u001b[0m\u001b[0;34m\u001b[0m\u001b[0m\n\u001b[0m",
            "\u001b[0;32m<ipython-input-3-ba9537bb0dc0>\u001b[0m in \u001b[0;36mget_database\u001b[0;34m(url)\u001b[0m\n\u001b[1;32m      6\u001b[0m     \u001b[0msheet_name\u001b[0m \u001b[0;34m=\u001b[0m \u001b[0;34m\"1\"\u001b[0m\u001b[0;34m\u001b[0m\u001b[0;34m\u001b[0m\u001b[0m\n\u001b[1;32m      7\u001b[0m     \u001b[0murl_csv\u001b[0m \u001b[0;34m=\u001b[0m \u001b[0murl_head\u001b[0m \u001b[0;34m+\u001b[0m \u001b[0murl_body\u001b[0m \u001b[0;34m+\u001b[0m \u001b[0murl_foot\u001b[0m \u001b[0;34m+\u001b[0m \u001b[0msheet_name\u001b[0m\u001b[0;34m\u001b[0m\u001b[0;34m\u001b[0m\u001b[0m\n\u001b[0;32m----> 8\u001b[0;31m     \u001b[0mdf\u001b[0m \u001b[0;34m=\u001b[0m \u001b[0mpd\u001b[0m\u001b[0;34m.\u001b[0m\u001b[0mread_csv\u001b[0m\u001b[0;34m(\u001b[0m\u001b[0murl_csv\u001b[0m\u001b[0;34m,\u001b[0m \u001b[0msep\u001b[0m\u001b[0;34m=\u001b[0m\u001b[0;34m','\u001b[0m\u001b[0;34m,\u001b[0m \u001b[0mskiprows\u001b[0m\u001b[0;34m=\u001b[0m\u001b[0;36m0\u001b[0m\u001b[0;34m)\u001b[0m\u001b[0;34m\u001b[0m\u001b[0;34m\u001b[0m\u001b[0m\n\u001b[0m\u001b[1;32m      9\u001b[0m     \u001b[0;32mreturn\u001b[0m \u001b[0mdf\u001b[0m\u001b[0;34m\u001b[0m\u001b[0;34m\u001b[0m\u001b[0m\n",
            "\u001b[0;32m/usr/local/lib/python3.7/dist-packages/pandas/util/_decorators.py\u001b[0m in \u001b[0;36mwrapper\u001b[0;34m(*args, **kwargs)\u001b[0m\n\u001b[1;32m    309\u001b[0m                     \u001b[0mstacklevel\u001b[0m\u001b[0;34m=\u001b[0m\u001b[0mstacklevel\u001b[0m\u001b[0;34m,\u001b[0m\u001b[0;34m\u001b[0m\u001b[0;34m\u001b[0m\u001b[0m\n\u001b[1;32m    310\u001b[0m                 )\n\u001b[0;32m--> 311\u001b[0;31m             \u001b[0;32mreturn\u001b[0m \u001b[0mfunc\u001b[0m\u001b[0;34m(\u001b[0m\u001b[0;34m*\u001b[0m\u001b[0margs\u001b[0m\u001b[0;34m,\u001b[0m \u001b[0;34m**\u001b[0m\u001b[0mkwargs\u001b[0m\u001b[0;34m)\u001b[0m\u001b[0;34m\u001b[0m\u001b[0;34m\u001b[0m\u001b[0m\n\u001b[0m\u001b[1;32m    312\u001b[0m \u001b[0;34m\u001b[0m\u001b[0m\n\u001b[1;32m    313\u001b[0m         \u001b[0;32mreturn\u001b[0m \u001b[0mwrapper\u001b[0m\u001b[0;34m\u001b[0m\u001b[0;34m\u001b[0m\u001b[0m\n",
            "\u001b[0;32m/usr/local/lib/python3.7/dist-packages/pandas/io/parsers/readers.py\u001b[0m in \u001b[0;36mread_csv\u001b[0;34m(filepath_or_buffer, sep, delimiter, header, names, index_col, usecols, squeeze, prefix, mangle_dupe_cols, dtype, engine, converters, true_values, false_values, skipinitialspace, skiprows, skipfooter, nrows, na_values, keep_default_na, na_filter, verbose, skip_blank_lines, parse_dates, infer_datetime_format, keep_date_col, date_parser, dayfirst, cache_dates, iterator, chunksize, compression, thousands, decimal, lineterminator, quotechar, quoting, doublequote, escapechar, comment, encoding, encoding_errors, dialect, error_bad_lines, warn_bad_lines, on_bad_lines, delim_whitespace, low_memory, memory_map, float_precision, storage_options)\u001b[0m\n\u001b[1;32m    584\u001b[0m     \u001b[0mkwds\u001b[0m\u001b[0;34m.\u001b[0m\u001b[0mupdate\u001b[0m\u001b[0;34m(\u001b[0m\u001b[0mkwds_defaults\u001b[0m\u001b[0;34m)\u001b[0m\u001b[0;34m\u001b[0m\u001b[0;34m\u001b[0m\u001b[0m\n\u001b[1;32m    585\u001b[0m \u001b[0;34m\u001b[0m\u001b[0m\n\u001b[0;32m--> 586\u001b[0;31m     \u001b[0;32mreturn\u001b[0m \u001b[0m_read\u001b[0m\u001b[0;34m(\u001b[0m\u001b[0mfilepath_or_buffer\u001b[0m\u001b[0;34m,\u001b[0m \u001b[0mkwds\u001b[0m\u001b[0;34m)\u001b[0m\u001b[0;34m\u001b[0m\u001b[0;34m\u001b[0m\u001b[0m\n\u001b[0m\u001b[1;32m    587\u001b[0m \u001b[0;34m\u001b[0m\u001b[0m\n\u001b[1;32m    588\u001b[0m \u001b[0;34m\u001b[0m\u001b[0m\n",
            "\u001b[0;32m/usr/local/lib/python3.7/dist-packages/pandas/io/parsers/readers.py\u001b[0m in \u001b[0;36m_read\u001b[0;34m(filepath_or_buffer, kwds)\u001b[0m\n\u001b[1;32m    486\u001b[0m \u001b[0;34m\u001b[0m\u001b[0m\n\u001b[1;32m    487\u001b[0m     \u001b[0;32mwith\u001b[0m \u001b[0mparser\u001b[0m\u001b[0;34m:\u001b[0m\u001b[0;34m\u001b[0m\u001b[0;34m\u001b[0m\u001b[0m\n\u001b[0;32m--> 488\u001b[0;31m         \u001b[0;32mreturn\u001b[0m \u001b[0mparser\u001b[0m\u001b[0;34m.\u001b[0m\u001b[0mread\u001b[0m\u001b[0;34m(\u001b[0m\u001b[0mnrows\u001b[0m\u001b[0;34m)\u001b[0m\u001b[0;34m\u001b[0m\u001b[0;34m\u001b[0m\u001b[0m\n\u001b[0m\u001b[1;32m    489\u001b[0m \u001b[0;34m\u001b[0m\u001b[0m\n\u001b[1;32m    490\u001b[0m \u001b[0;34m\u001b[0m\u001b[0m\n",
            "\u001b[0;32m/usr/local/lib/python3.7/dist-packages/pandas/io/parsers/readers.py\u001b[0m in \u001b[0;36mread\u001b[0;34m(self, nrows)\u001b[0m\n\u001b[1;32m   1045\u001b[0m     \u001b[0;32mdef\u001b[0m \u001b[0mread\u001b[0m\u001b[0;34m(\u001b[0m\u001b[0mself\u001b[0m\u001b[0;34m,\u001b[0m \u001b[0mnrows\u001b[0m\u001b[0;34m=\u001b[0m\u001b[0;32mNone\u001b[0m\u001b[0;34m)\u001b[0m\u001b[0;34m:\u001b[0m\u001b[0;34m\u001b[0m\u001b[0;34m\u001b[0m\u001b[0m\n\u001b[1;32m   1046\u001b[0m         \u001b[0mnrows\u001b[0m \u001b[0;34m=\u001b[0m \u001b[0mvalidate_integer\u001b[0m\u001b[0;34m(\u001b[0m\u001b[0;34m\"nrows\"\u001b[0m\u001b[0;34m,\u001b[0m \u001b[0mnrows\u001b[0m\u001b[0;34m)\u001b[0m\u001b[0;34m\u001b[0m\u001b[0;34m\u001b[0m\u001b[0m\n\u001b[0;32m-> 1047\u001b[0;31m         \u001b[0mindex\u001b[0m\u001b[0;34m,\u001b[0m \u001b[0mcolumns\u001b[0m\u001b[0;34m,\u001b[0m \u001b[0mcol_dict\u001b[0m \u001b[0;34m=\u001b[0m \u001b[0mself\u001b[0m\u001b[0;34m.\u001b[0m\u001b[0m_engine\u001b[0m\u001b[0;34m.\u001b[0m\u001b[0mread\u001b[0m\u001b[0;34m(\u001b[0m\u001b[0mnrows\u001b[0m\u001b[0;34m)\u001b[0m\u001b[0;34m\u001b[0m\u001b[0;34m\u001b[0m\u001b[0m\n\u001b[0m\u001b[1;32m   1048\u001b[0m \u001b[0;34m\u001b[0m\u001b[0m\n\u001b[1;32m   1049\u001b[0m         \u001b[0;32mif\u001b[0m \u001b[0mindex\u001b[0m \u001b[0;32mis\u001b[0m \u001b[0;32mNone\u001b[0m\u001b[0;34m:\u001b[0m\u001b[0;34m\u001b[0m\u001b[0;34m\u001b[0m\u001b[0m\n",
            "\u001b[0;32m/usr/local/lib/python3.7/dist-packages/pandas/io/parsers/c_parser_wrapper.py\u001b[0m in \u001b[0;36mread\u001b[0;34m(self, nrows)\u001b[0m\n\u001b[1;32m    222\u001b[0m         \u001b[0;32mtry\u001b[0m\u001b[0;34m:\u001b[0m\u001b[0;34m\u001b[0m\u001b[0;34m\u001b[0m\u001b[0m\n\u001b[1;32m    223\u001b[0m             \u001b[0;32mif\u001b[0m \u001b[0mself\u001b[0m\u001b[0;34m.\u001b[0m\u001b[0mlow_memory\u001b[0m\u001b[0;34m:\u001b[0m\u001b[0;34m\u001b[0m\u001b[0;34m\u001b[0m\u001b[0m\n\u001b[0;32m--> 224\u001b[0;31m                 \u001b[0mchunks\u001b[0m \u001b[0;34m=\u001b[0m \u001b[0mself\u001b[0m\u001b[0;34m.\u001b[0m\u001b[0m_reader\u001b[0m\u001b[0;34m.\u001b[0m\u001b[0mread_low_memory\u001b[0m\u001b[0;34m(\u001b[0m\u001b[0mnrows\u001b[0m\u001b[0;34m)\u001b[0m\u001b[0;34m\u001b[0m\u001b[0;34m\u001b[0m\u001b[0m\n\u001b[0m\u001b[1;32m    225\u001b[0m                 \u001b[0;31m# destructive to chunks\u001b[0m\u001b[0;34m\u001b[0m\u001b[0;34m\u001b[0m\u001b[0;34m\u001b[0m\u001b[0m\n\u001b[1;32m    226\u001b[0m                 \u001b[0mdata\u001b[0m \u001b[0;34m=\u001b[0m \u001b[0m_concatenate_chunks\u001b[0m\u001b[0;34m(\u001b[0m\u001b[0mchunks\u001b[0m\u001b[0;34m)\u001b[0m\u001b[0;34m\u001b[0m\u001b[0;34m\u001b[0m\u001b[0m\n",
            "\u001b[0;32m/usr/local/lib/python3.7/dist-packages/pandas/_libs/parsers.pyx\u001b[0m in \u001b[0;36mpandas._libs.parsers.TextReader.read_low_memory\u001b[0;34m()\u001b[0m\n",
            "\u001b[0;32m/usr/local/lib/python3.7/dist-packages/pandas/_libs/parsers.pyx\u001b[0m in \u001b[0;36mpandas._libs.parsers.TextReader._read_rows\u001b[0;34m()\u001b[0m\n",
            "\u001b[0;32m/usr/local/lib/python3.7/dist-packages/pandas/_libs/parsers.pyx\u001b[0m in \u001b[0;36mpandas._libs.parsers.TextReader._tokenize_rows\u001b[0;34m()\u001b[0m\n",
            "\u001b[0;32m/usr/local/lib/python3.7/dist-packages/pandas/_libs/parsers.pyx\u001b[0m in \u001b[0;36mpandas._libs.parsers.raise_parser_error\u001b[0;34m()\u001b[0m\n",
            "\u001b[0;31mParserError\u001b[0m: Error tokenizing data. C error: Expected 90 fields in line 3, saw 217\n"
          ]
        }
      ]
    },
    {
      "cell_type": "code",
      "source": [
        "data = np.array(data)"
      ],
      "metadata": {
        "id": "2wVdQxRijQ2v"
      },
      "execution_count": 18,
      "outputs": []
    },
    {
      "cell_type": "code",
      "source": [
        "circumferences = 10\n",
        "diameters = 5"
      ],
      "metadata": {
        "id": "HwjOm5sgj2JA"
      },
      "execution_count": 19,
      "outputs": []
    },
    {
      "cell_type": "markdown",
      "source": [
        "Plot your data points"
      ],
      "metadata": {
        "id": "INpIcEh1mUKn"
      }
    },
    {
      "cell_type": "code",
      "source": [
        "# this is used to define the name of your x and y axis for the chart"
      ],
      "metadata": {
        "id": "GjrXSk8OkqAU"
      },
      "execution_count": null,
      "outputs": []
    },
    {
      "cell_type": "code",
      "source": [
        "plt.title(\"Type of Pet\")\n",
        "\n",
        "plt.xlabel( 'Type' )\n",
        "plt.ylabel( 'Votes' )\n",
        "\n",
        "plt.plot(-100,100,100);"
      ],
      "metadata": {
        "id": "uoX4t7tIj8id",
        "colab": {
          "base_uri": "https://localhost:8080/",
          "height": 295
        },
        "outputId": "10328e18-6a04-4a15-dca5-8262f7ee03a9"
      },
      "execution_count": 20,
      "outputs": [
        {
          "output_type": "display_data",
          "data": {
            "text/plain": [
              "<Figure size 432x288 with 1 Axes>"
            ],
            "image/png": "[encoded data removed]"
          },
          "metadata": {
            "needs_background": "light"
          }
        }
      ]
    },
    {
      "cell_type": "markdown",
      "source": [
        "## Part 2: Linear Fit\n",
        "\n",
        "Follow the steps in the [Linear Fit notebook]() to run a linear fit on your data."
      ],
      "metadata": {
        "id": "IhT_tn8ym8N8"
      }
    },
    {
      "cell_type": "code",
      "source": [
        "x = np.linspace(-100,100,100)"
      ],
      "metadata": {
        "id": "jQfxdkjqkdfZ"
      },
      "execution_count": 25,
      "outputs": []
    },
    {
      "cell_type": "code",
      "source": [
        "# you have to define the x for later in the equation"
      ],
      "metadata": {
        "id": "UY2jazK9kjxz"
      },
      "execution_count": null,
      "outputs": []
    },
    {
      "cell_type": "code",
      "source": [
        "x"
      ],
      "metadata": {
        "colab": {
          "base_uri": "https://localhost:8080/"
        },
        "id": "H_oZYlOQkdcY",
        "outputId": "af47444c-cba9-4510-a1e9-c94d105fc9a2"
      },
      "execution_count": 26,
      "outputs": [
        {
          "output_type": "execute_result",
          "data": {
            "text/plain": [
              "array([-100.        ,  -97.97979798,  -95.95959596,  -93.93939394,\n",
              "        -91.91919192,  -89.8989899 ,  -87.87878788,  -85.85858586,\n",
              "        -83.83838384,  -81.81818182,  -79.7979798 ,  -77.77777778,\n",
              "        -75.75757576,  -73.73737374,  -71.71717172,  -69.6969697 ,\n",
              "        -67.67676768,  -65.65656566,  -63.63636364,  -61.61616162,\n",
              "        -59.5959596 ,  -57.57575758,  -55.55555556,  -53.53535354,\n",
              "        -51.51515152,  -49.49494949,  -47.47474747,  -45.45454545,\n",
              "        -43.43434343,  -41.41414141,  -39.39393939,  -37.37373737,\n",
              "        -35.35353535,  -33.33333333,  -31.31313131,  -29.29292929,\n",
              "        -27.27272727,  -25.25252525,  -23.23232323,  -21.21212121,\n",
              "        -19.19191919,  -17.17171717,  -15.15151515,  -13.13131313,\n",
              "        -11.11111111,   -9.09090909,   -7.07070707,   -5.05050505,\n",
              "         -3.03030303,   -1.01010101,    1.01010101,    3.03030303,\n",
              "          5.05050505,    7.07070707,    9.09090909,   11.11111111,\n",
              "         13.13131313,   15.15151515,   17.17171717,   19.19191919,\n",
              "         21.21212121,   23.23232323,   25.25252525,   27.27272727,\n",
              "         29.29292929,   31.31313131,   33.33333333,   35.35353535,\n",
              "         37.37373737,   39.39393939,   41.41414141,   43.43434343,\n",
              "         45.45454545,   47.47474747,   49.49494949,   51.51515152,\n",
              "         53.53535354,   55.55555556,   57.57575758,   59.5959596 ,\n",
              "         61.61616162,   63.63636364,   65.65656566,   67.67676768,\n",
              "         69.6969697 ,   71.71717172,   73.73737374,   75.75757576,\n",
              "         77.77777778,   79.7979798 ,   81.81818182,   83.83838384,\n",
              "         85.85858586,   87.87878788,   89.8989899 ,   91.91919192,\n",
              "         93.93939394,   95.95959596,   97.97979798,  100.        ])"
            ]
          },
          "metadata": {},
          "execution_count": 26
        }
      ]
    },
    {
      "cell_type": "code",
      "source": [
        "best_loss = 100000000\n",
        "\n",
        "best_m = 10\n",
        "best_b = 5\n",
        "\n",
        "for m_guess in np.linspace(-100,100,100):\n",
        "    for b_guess in np.linspace(-100,100,100):\n",
        "\n",
        "        y_guess = m_guess * x + b_guess\n",
        "\n",
        "        loss = np.sum((y_guess - y)**2)\n",
        "\n",
        "        if loss < best_loss :\n",
        "\n",
        "            best_m = m_guess\n",
        "            best_b = b_guess\n",
        "            best_loss = loss\n"
      ],
      "metadata": {
        "id": "KZn5uJ31nk4X",
        "colab": {
          "base_uri": "https://localhost:8080/",
          "height": 240
        },
        "outputId": "d156d2df-f2e0-473f-bb25-4382eb85a853"
      },
      "execution_count": 24,
      "outputs": [
        {
          "output_type": "error",
          "ename": "NameError",
          "evalue": "ignored",
          "traceback": [
            "\u001b[0;31m---------------------------------------------------------------------------\u001b[0m",
            "\u001b[0;31mNameError\u001b[0m                                 Traceback (most recent call last)",
            "\u001b[0;32m<ipython-input-24-276cd45a69e6>\u001b[0m in \u001b[0;36m<module>\u001b[0;34m\u001b[0m\n\u001b[1;32m      9\u001b[0m         \u001b[0my_guess\u001b[0m \u001b[0;34m=\u001b[0m \u001b[0mm_guess\u001b[0m \u001b[0;34m*\u001b[0m \u001b[0mx\u001b[0m \u001b[0;34m+\u001b[0m \u001b[0mb_guess\u001b[0m\u001b[0;34m\u001b[0m\u001b[0;34m\u001b[0m\u001b[0m\n\u001b[1;32m     10\u001b[0m \u001b[0;34m\u001b[0m\u001b[0m\n\u001b[0;32m---> 11\u001b[0;31m         \u001b[0mloss\u001b[0m \u001b[0;34m=\u001b[0m \u001b[0mnp\u001b[0m\u001b[0;34m.\u001b[0m\u001b[0msum\u001b[0m\u001b[0;34m(\u001b[0m\u001b[0;34m(\u001b[0m\u001b[0my_guess\u001b[0m \u001b[0;34m-\u001b[0m \u001b[0my\u001b[0m\u001b[0;34m)\u001b[0m\u001b[0;34m**\u001b[0m\u001b[0;36m2\u001b[0m\u001b[0;34m)\u001b[0m\u001b[0;34m\u001b[0m\u001b[0;34m\u001b[0m\u001b[0m\n\u001b[0m\u001b[1;32m     12\u001b[0m \u001b[0;34m\u001b[0m\u001b[0m\n\u001b[1;32m     13\u001b[0m         \u001b[0;32mif\u001b[0m \u001b[0mloss\u001b[0m \u001b[0;34m<\u001b[0m \u001b[0mbest_loss\u001b[0m \u001b[0;34m:\u001b[0m\u001b[0;34m\u001b[0m\u001b[0;34m\u001b[0m\u001b[0m\n",
            "\u001b[0;31mNameError\u001b[0m: name 'y' is not defined"
          ]
        }
      ]
    },
    {
      "cell_type": "code",
      "source": [
        "# this equation gives you the data in slope incetcept form, y=mx+b."
      ],
      "metadata": {
        "id": "x3_Cm6Bzk8sH"
      },
      "execution_count": null,
      "outputs": []
    },
    {
      "cell_type": "markdown",
      "source": [
        "Plot the line of best fit:\n",
        "\n",
        "Use blue dots for the collected data and a red line for the estimate."
      ],
      "metadata": {
        "id": "I0KofkS9p7hu"
      }
    },
    {
      "cell_type": "code",
      "source": [
        "plt.title('Linear Fit of Circles')\n",
        "\n",
        "plt.xlabel('Diameter')\n",
        "plt.ylabel('Circumference')\n",
        "\n",
        "# Plot the collected data\n",
        "plt.plot(..., label='Observations')\n",
        "\n",
        "y_estimate = ...\n",
        "\n",
        "# Plot the line of best fit\n",
        "plt.plot(..., label=f'Estimate: $y = {...} x + {...}$')\n",
        "\n",
        "plt.legend();"
      ],
      "metadata": {
        "id": "xe8G9X7DqACm"
      },
      "execution_count": null,
      "outputs": []
    },
    {
      "cell_type": "markdown",
      "source": [
        "The estimated relationship is:\n",
        "\n",
        "$C = ? D + ?$\n",
        "\n",
        "The c stands for the probability of one variable having a higher chance by percentage of being picked randomly. This equation helps to solve for said percentage."
      ],
      "metadata": {
        "id": "4zCAPG3upXN9"
      }
    },
    {
      "cell_type": "markdown",
      "source": [
        "## Part 3: Interpretation\n",
        "\n",
        "Answer the questions in text cells"
      ],
      "metadata": {
        "id": "7FBlUtdwt_hd"
      }
    },
    {
      "cell_type": "markdown",
      "source": [
        "#### Question 1:\n",
        "\n",
        "What do $m$ and $b$ represent in these equations?"
      ],
      "metadata": {
        "id": "9xIvwJhOuGDh"
      }
    },
    {
      "cell_type": "markdown",
      "source": [
        "The m and b represent the same as they would in slope intercept equation, so m is the slope and b is y when x=0."
      ],
      "metadata": {
        "id": "OC_Ja53Yugfn"
      }
    },
    {
      "cell_type": "markdown",
      "source": [
        "#### Question 2:\n",
        "\n",
        "Guess what the correct values $m$ and $b$ should be."
      ],
      "metadata": {
        "id": "_7xl4z8kubLo"
      }
    },
    {
      "cell_type": "markdown",
      "source": [],
      "metadata": {
        "id": "Te_52DvOuhZ-"
      }
    },
    {
      "cell_type": "markdown",
      "source": [
        "#### Question 3:\n",
        "\n",
        "Does it make sense to include $b$ in the parameters?"
      ],
      "metadata": {
        "id": "2yrRt2wMubSC"
      }
    },
    {
      "cell_type": "markdown",
      "source": [
        "It is important becasue this is the y intercept and is used to compute other variables."
      ],
      "metadata": {
        "id": "F0gbHr8_uiWi"
      }
    },
    {
      "cell_type": "markdown",
      "source": [
        "## Bonus:\n",
        "\n",
        "These problems are extra credit. You may use any resources, but be sure to explain your code."
      ],
      "metadata": {
        "id": "_3LN79rPujMz"
      }
    },
    {
      "cell_type": "markdown",
      "source": [
        "#### Bonus 1: Plot the squared errors from your line of best fit"
      ],
      "metadata": {
        "id": "wk0Ox4nqvFcT"
      }
    },
    {
      "cell_type": "code",
      "source": [
        "plt.title(\"Fit Errors\")\n",
        "\n",
        "plt.xlabel(\"Diameter\")\n",
        "plt.ylabel(\"Squared Error\")\n",
        "\n",
        "squared_error = ...\n",
        "\n",
        "plt.plot(..., 'b.', label = \"Errors\")\n",
        "\n",
        "plt.legend();"
      ],
      "metadata": {
        "id": "O8IQn-B_vXAN"
      },
      "execution_count": null,
      "outputs": []
    },
    {
      "cell_type": "markdown",
      "source": [
        "#### Bonus 2: Plot the errors as a histogram"
      ],
      "metadata": {
        "id": "ojVobjtBwK9o"
      }
    },
    {
      "cell_type": "code",
      "source": [
        "plt.title(\"Errors\")\n",
        "\n",
        "..."
      ],
      "metadata": {
        "id": "WJkR3s9kwujU"
      },
      "execution_count": null,
      "outputs": []
    },
    {
      "cell_type": "markdown",
      "source": [
        "What distribution does this histogram look like?"
      ],
      "metadata": {
        "id": "k9nm1qADyFiA"
      }
    },
    {
      "cell_type": "markdown",
      "source": [],
      "metadata": {
        "id": "r2Vo3k0xyKiK"
      }
    },
    {
      "cell_type": "markdown",
      "source": [
        "#### Bonus 3: Find the circle with the largest error. \n",
        "Hint: use np.max"
      ],
      "metadata": {
        "id": "qfDuImTvrF5V"
      }
    },
    {
      "cell_type": "code",
      "source": [
        "largest_error = ..."
      ],
      "metadata": {
        "id": "k7ShpKK6vWrH"
      },
      "execution_count": null,
      "outputs": []
    },
    {
      "cell_type": "markdown",
      "source": [
        "#### Bonus 4: Remove the circles with the 2 largest errors and run the fit again.\n"
      ],
      "metadata": {
        "id": "oQCq4D4uwZ7I"
      }
    },
    {
      "cell_type": "code",
      "source": [
        "..."
      ],
      "metadata": {
        "id": "EjddA54wwKPY"
      },
      "execution_count": null,
      "outputs": []
    },
    {
      "cell_type": "markdown",
      "source": [
        "What is the difference in your error?"
      ],
      "metadata": {
        "id": "V2jyayR-yOvF"
      }
    },
    {
      "cell_type": "markdown",
      "source": [],
      "metadata": {
        "id": "F1ZCdkHyyY9x"
      }
    },
    {
      "cell_type": "markdown",
      "source": [
        "#### Bonus 5: Find and explain a better method of fitting this data"
      ],
      "metadata": {
        "id": "1y-okVy_w22o"
      }
    },
    {
      "cell_type": "code",
      "source": [],
      "metadata": {
        "id": "sfOiajQCxH_7"
      },
      "execution_count": null,
      "outputs": []
    }
  ]
}